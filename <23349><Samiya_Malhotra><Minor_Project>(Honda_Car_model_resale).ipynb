{
  "nbformat": 4,
  "nbformat_minor": 0,
  "metadata": {
    "colab": {
      "provenance": [],
      "include_colab_link": true
    },
    "kernelspec": {
      "name": "python3",
      "display_name": "Python 3"
    },
    "language_info": {
      "name": "python"
    }
  },
  "cells": [
    {
      "cell_type": "markdown",
      "metadata": {
        "id": "view-in-github",
        "colab_type": "text"
      },
      "source": [
        "<a href=\"https://colab.research.google.com/github/Sami-1203/AIMLMonth2023/blob/main/%3C23349%3E%3CSamiya_Malhotra%3E%3CMinor_Project%3E(Honda_Car_model_resale).ipynb\" target=\"_parent\"><img src=\"https://colab.research.google.com/assets/colab-badge.svg\" alt=\"Open In Colab\"/></a>"
      ]
    },
    {
      "cell_type": "code",
      "source": [
        "!wget https://www.kaggle.com/datasets/omartorres25/honda-data"
      ],
      "metadata": {
        "colab": {
          "base_uri": "https://localhost:8080/"
        },
        "id": "u936IHf-g1fw",
        "outputId": "d0630df6-5eba-48bb-a300-46818a5d0531"
      },
      "execution_count": null,
      "outputs": [
        {
          "output_type": "stream",
          "name": "stdout",
          "text": [
            "--2023-08-15 13:04:38--  https://www.kaggle.com/datasets/omartorres25/honda-data\n",
            "Resolving www.kaggle.com (www.kaggle.com)... 35.244.233.98\n",
            "Connecting to www.kaggle.com (www.kaggle.com)|35.244.233.98|:443... connected.\n",
            "HTTP request sent, awaiting response... 200 OK\n",
            "Length: unspecified [text/html]\n",
            "Saving to: ‘honda-data’\n",
            "\n",
            "\rhonda-data              [<=>                 ]       0  --.-KB/s               \rhonda-data              [ <=>                ]  14.13K  --.-KB/s    in 0.008s  \n",
            "\n",
            "2023-08-15 13:04:39 (1.65 MB/s) - ‘honda-data’ saved [14465]\n",
            "\n"
          ]
        }
      ]
    },
    {
      "cell_type": "code",
      "execution_count": null,
      "metadata": {
        "id": "U4J9QCIUf938"
      },
      "outputs": [],
      "source": [
        "import numpy as np\n",
        "import pandas as pd\n",
        "\n",
        "import matplotlib.pyplot as plt\n",
        "import seaborn as sns\n",
        "\n",
        "import warnings\n",
        "warnings.filterwarnings('ignore')"
      ]
    },
    {
      "cell_type": "code",
      "source": [
        "honda_data = pd.read_csv('honda_sell_data.csv')"
      ],
      "metadata": {
        "id": "-HeGtF1Vg1lP"
      },
      "execution_count": null,
      "outputs": []
    },
    {
      "cell_type": "code",
      "source": [
        "honda_data.head()"
      ],
      "metadata": {
        "colab": {
          "base_uri": "https://localhost:8080/",
          "height": 455
        },
        "id": "ZUY9VocTg1np",
        "outputId": "56059f17-526c-49c4-8027-e840855cae00"
      },
      "execution_count": null,
      "outputs": [
        {
          "output_type": "execute_result",
          "data": {
            "text/plain": [
              "   Year   Make                      Model Condition    Price  Consumer_Rating  \\\n",
              "0  2023  Honda              Ridgeline RTL       New  $46,370              4.8   \n",
              "1  2023  Honda          CR-V Hybrid Sport       New  $34,150              1.7   \n",
              "2  2023  Honda          CR-V Hybrid Sport       New  $34,245              4.7   \n",
              "3  2022  Honda           Pilot TrailSport       New  $46,500              5.0   \n",
              "4  2023  Honda  CR-V Hybrid Sport Touring       New  $40,395              4.4   \n",
              "\n",
              "   Consumer_Review_#           Exterior_Color Interior_Color  \\\n",
              "0                  9     Platinum White Pearl          Beige   \n",
              "1                 24     Platinum White Pearl          Black   \n",
              "2               2869  Meteorite Gray Metallic          Black   \n",
              "3                 12         Sonic Gray Pearl          Black   \n",
              "4                 12      Crystal Black Pearl          Black   \n",
              "\n",
              "          Drivetrain  ...   Stock_# Mileage Comfort_Rating  \\\n",
              "0    All-wheel Drive  ...    830164      10            5.0   \n",
              "1                FWD  ...   6402953       –            5.0   \n",
              "2  Front-wheel Drive  ...  PH704805       1            5.0   \n",
              "3    All-wheel Drive  ...  5700429B       5            5.0   \n",
              "4    All-wheel Drive  ...   5705954       5            5.0   \n",
              "\n",
              "  Interior_Design_Rating Performance_Rating Value_For_Money_Rating  \\\n",
              "0                    4.8                4.8                    4.2   \n",
              "1                    3.0                4.0                    4.0   \n",
              "2                    3.0                4.0                    4.0   \n",
              "3                    5.0                5.0                    5.0   \n",
              "4                    3.0                4.0                    4.0   \n",
              "\n",
              "  Exterior_Styling_Rating  Reliability_Rating  State  Seller_Type  \n",
              "0                     5.0                 5.0     CA       Dealer  \n",
              "1                     5.0                 5.0     CA       Dealer  \n",
              "2                     5.0                 5.0     CA       Dealer  \n",
              "3                     5.0                 5.0     CA       Dealer  \n",
              "4                     5.0                 5.0     CA       Dealer  \n",
              "\n",
              "[5 rows x 25 columns]"
            ],
            "text/html": [
              "\n",
              "  <div id=\"df-afc5602e-841f-400e-88e6-7fdeb6cc7df7\">\n",
              "    <div class=\"colab-df-container\">\n",
              "      <div>\n",
              "<style scoped>\n",
              "    .dataframe tbody tr th:only-of-type {\n",
              "        vertical-align: middle;\n",
              "    }\n",
              "\n",
              "    .dataframe tbody tr th {\n",
              "        vertical-align: top;\n",
              "    }\n",
              "\n",
              "    .dataframe thead th {\n",
              "        text-align: right;\n",
              "    }\n",
              "</style>\n",
              "<table border=\"1\" class=\"dataframe\">\n",
              "  <thead>\n",
              "    <tr style=\"text-align: right;\">\n",
              "      <th></th>\n",
              "      <th>Year</th>\n",
              "      <th>Make</th>\n",
              "      <th>Model</th>\n",
              "      <th>Condition</th>\n",
              "      <th>Price</th>\n",
              "      <th>Consumer_Rating</th>\n",
              "      <th>Consumer_Review_#</th>\n",
              "      <th>Exterior_Color</th>\n",
              "      <th>Interior_Color</th>\n",
              "      <th>Drivetrain</th>\n",
              "      <th>...</th>\n",
              "      <th>Stock_#</th>\n",
              "      <th>Mileage</th>\n",
              "      <th>Comfort_Rating</th>\n",
              "      <th>Interior_Design_Rating</th>\n",
              "      <th>Performance_Rating</th>\n",
              "      <th>Value_For_Money_Rating</th>\n",
              "      <th>Exterior_Styling_Rating</th>\n",
              "      <th>Reliability_Rating</th>\n",
              "      <th>State</th>\n",
              "      <th>Seller_Type</th>\n",
              "    </tr>\n",
              "  </thead>\n",
              "  <tbody>\n",
              "    <tr>\n",
              "      <th>0</th>\n",
              "      <td>2023</td>\n",
              "      <td>Honda</td>\n",
              "      <td>Ridgeline RTL</td>\n",
              "      <td>New</td>\n",
              "      <td>$46,370</td>\n",
              "      <td>4.8</td>\n",
              "      <td>9</td>\n",
              "      <td>Platinum White Pearl</td>\n",
              "      <td>Beige</td>\n",
              "      <td>All-wheel Drive</td>\n",
              "      <td>...</td>\n",
              "      <td>830164</td>\n",
              "      <td>10</td>\n",
              "      <td>5.0</td>\n",
              "      <td>4.8</td>\n",
              "      <td>4.8</td>\n",
              "      <td>4.2</td>\n",
              "      <td>5.0</td>\n",
              "      <td>5.0</td>\n",
              "      <td>CA</td>\n",
              "      <td>Dealer</td>\n",
              "    </tr>\n",
              "    <tr>\n",
              "      <th>1</th>\n",
              "      <td>2023</td>\n",
              "      <td>Honda</td>\n",
              "      <td>CR-V Hybrid Sport</td>\n",
              "      <td>New</td>\n",
              "      <td>$34,150</td>\n",
              "      <td>1.7</td>\n",
              "      <td>24</td>\n",
              "      <td>Platinum White Pearl</td>\n",
              "      <td>Black</td>\n",
              "      <td>FWD</td>\n",
              "      <td>...</td>\n",
              "      <td>6402953</td>\n",
              "      <td>–</td>\n",
              "      <td>5.0</td>\n",
              "      <td>3.0</td>\n",
              "      <td>4.0</td>\n",
              "      <td>4.0</td>\n",
              "      <td>5.0</td>\n",
              "      <td>5.0</td>\n",
              "      <td>CA</td>\n",
              "      <td>Dealer</td>\n",
              "    </tr>\n",
              "    <tr>\n",
              "      <th>2</th>\n",
              "      <td>2023</td>\n",
              "      <td>Honda</td>\n",
              "      <td>CR-V Hybrid Sport</td>\n",
              "      <td>New</td>\n",
              "      <td>$34,245</td>\n",
              "      <td>4.7</td>\n",
              "      <td>2869</td>\n",
              "      <td>Meteorite Gray Metallic</td>\n",
              "      <td>Black</td>\n",
              "      <td>Front-wheel Drive</td>\n",
              "      <td>...</td>\n",
              "      <td>PH704805</td>\n",
              "      <td>1</td>\n",
              "      <td>5.0</td>\n",
              "      <td>3.0</td>\n",
              "      <td>4.0</td>\n",
              "      <td>4.0</td>\n",
              "      <td>5.0</td>\n",
              "      <td>5.0</td>\n",
              "      <td>CA</td>\n",
              "      <td>Dealer</td>\n",
              "    </tr>\n",
              "    <tr>\n",
              "      <th>3</th>\n",
              "      <td>2022</td>\n",
              "      <td>Honda</td>\n",
              "      <td>Pilot TrailSport</td>\n",
              "      <td>New</td>\n",
              "      <td>$46,500</td>\n",
              "      <td>5.0</td>\n",
              "      <td>12</td>\n",
              "      <td>Sonic Gray Pearl</td>\n",
              "      <td>Black</td>\n",
              "      <td>All-wheel Drive</td>\n",
              "      <td>...</td>\n",
              "      <td>5700429B</td>\n",
              "      <td>5</td>\n",
              "      <td>5.0</td>\n",
              "      <td>5.0</td>\n",
              "      <td>5.0</td>\n",
              "      <td>5.0</td>\n",
              "      <td>5.0</td>\n",
              "      <td>5.0</td>\n",
              "      <td>CA</td>\n",
              "      <td>Dealer</td>\n",
              "    </tr>\n",
              "    <tr>\n",
              "      <th>4</th>\n",
              "      <td>2023</td>\n",
              "      <td>Honda</td>\n",
              "      <td>CR-V Hybrid Sport Touring</td>\n",
              "      <td>New</td>\n",
              "      <td>$40,395</td>\n",
              "      <td>4.4</td>\n",
              "      <td>12</td>\n",
              "      <td>Crystal Black Pearl</td>\n",
              "      <td>Black</td>\n",
              "      <td>All-wheel Drive</td>\n",
              "      <td>...</td>\n",
              "      <td>5705954</td>\n",
              "      <td>5</td>\n",
              "      <td>5.0</td>\n",
              "      <td>3.0</td>\n",
              "      <td>4.0</td>\n",
              "      <td>4.0</td>\n",
              "      <td>5.0</td>\n",
              "      <td>5.0</td>\n",
              "      <td>CA</td>\n",
              "      <td>Dealer</td>\n",
              "    </tr>\n",
              "  </tbody>\n",
              "</table>\n",
              "<p>5 rows × 25 columns</p>\n",
              "</div>\n",
              "      <button class=\"colab-df-convert\" onclick=\"convertToInteractive('df-afc5602e-841f-400e-88e6-7fdeb6cc7df7')\"\n",
              "              title=\"Convert this dataframe to an interactive table.\"\n",
              "              style=\"display:none;\">\n",
              "        \n",
              "  <svg xmlns=\"http://www.w3.org/2000/svg\" height=\"24px\"viewBox=\"0 0 24 24\"\n",
              "       width=\"24px\">\n",
              "    <path d=\"M0 0h24v24H0V0z\" fill=\"none\"/>\n",
              "    <path d=\"M18.56 5.44l.94 2.06.94-2.06 2.06-.94-2.06-.94-.94-2.06-.94 2.06-2.06.94zm-11 1L8.5 8.5l.94-2.06 2.06-.94-2.06-.94L8.5 2.5l-.94 2.06-2.06.94zm10 10l.94 2.06.94-2.06 2.06-.94-2.06-.94-.94-2.06-.94 2.06-2.06.94z\"/><path d=\"M17.41 7.96l-1.37-1.37c-.4-.4-.92-.59-1.43-.59-.52 0-1.04.2-1.43.59L10.3 9.45l-7.72 7.72c-.78.78-.78 2.05 0 2.83L4 21.41c.39.39.9.59 1.41.59.51 0 1.02-.2 1.41-.59l7.78-7.78 2.81-2.81c.8-.78.8-2.07 0-2.86zM5.41 20L4 18.59l7.72-7.72 1.47 1.35L5.41 20z\"/>\n",
              "  </svg>\n",
              "      </button>\n",
              "      \n",
              "  <style>\n",
              "    .colab-df-container {\n",
              "      display:flex;\n",
              "      flex-wrap:wrap;\n",
              "      gap: 12px;\n",
              "    }\n",
              "\n",
              "    .colab-df-convert {\n",
              "      background-color: #E8F0FE;\n",
              "      border: none;\n",
              "      border-radius: 50%;\n",
              "      cursor: pointer;\n",
              "      display: none;\n",
              "      fill: #1967D2;\n",
              "      height: 32px;\n",
              "      padding: 0 0 0 0;\n",
              "      width: 32px;\n",
              "    }\n",
              "\n",
              "    .colab-df-convert:hover {\n",
              "      background-color: #E2EBFA;\n",
              "      box-shadow: 0px 1px 2px rgba(60, 64, 67, 0.3), 0px 1px 3px 1px rgba(60, 64, 67, 0.15);\n",
              "      fill: #174EA6;\n",
              "    }\n",
              "\n",
              "    [theme=dark] .colab-df-convert {\n",
              "      background-color: #3B4455;\n",
              "      fill: #D2E3FC;\n",
              "    }\n",
              "\n",
              "    [theme=dark] .colab-df-convert:hover {\n",
              "      background-color: #434B5C;\n",
              "      box-shadow: 0px 1px 3px 1px rgba(0, 0, 0, 0.15);\n",
              "      filter: drop-shadow(0px 1px 2px rgba(0, 0, 0, 0.3));\n",
              "      fill: #FFFFFF;\n",
              "    }\n",
              "  </style>\n",
              "\n",
              "      <script>\n",
              "        const buttonEl =\n",
              "          document.querySelector('#df-afc5602e-841f-400e-88e6-7fdeb6cc7df7 button.colab-df-convert');\n",
              "        buttonEl.style.display =\n",
              "          google.colab.kernel.accessAllowed ? 'block' : 'none';\n",
              "\n",
              "        async function convertToInteractive(key) {\n",
              "          const element = document.querySelector('#df-afc5602e-841f-400e-88e6-7fdeb6cc7df7');\n",
              "          const dataTable =\n",
              "            await google.colab.kernel.invokeFunction('convertToInteractive',\n",
              "                                                     [key], {});\n",
              "          if (!dataTable) return;\n",
              "\n",
              "          const docLinkHtml = 'Like what you see? Visit the ' +\n",
              "            '<a target=\"_blank\" href=https://colab.research.google.com/notebooks/data_table.ipynb>data table notebook</a>'\n",
              "            + ' to learn more about interactive tables.';\n",
              "          element.innerHTML = '';\n",
              "          dataTable['output_type'] = 'display_data';\n",
              "          await google.colab.output.renderOutput(dataTable, element);\n",
              "          const docLink = document.createElement('div');\n",
              "          docLink.innerHTML = docLinkHtml;\n",
              "          element.appendChild(docLink);\n",
              "        }\n",
              "      </script>\n",
              "    </div>\n",
              "  </div>\n",
              "  "
            ]
          },
          "metadata": {},
          "execution_count": 7
        }
      ]
    },
    {
      "cell_type": "markdown",
      "source": [
        "#TASK - 1(1)"
      ],
      "metadata": {
        "id": "qbAEcMC9qIyP"
      }
    },
    {
      "cell_type": "code",
      "source": [
        "honda_data['Condition'].value_counts() ## finding no. of new etc"
      ],
      "metadata": {
        "colab": {
          "base_uri": "https://localhost:8080/"
        },
        "id": "0374SluFg1r-",
        "outputId": "dc6501f1-1d5c-4219-db39-2fd7a9cf363f"
      },
      "execution_count": null,
      "outputs": [
        {
          "output_type": "execute_result",
          "data": {
            "text/plain": [
              "New                2697\n",
              "Used               2022\n",
              "Honda Certified     280\n",
              "Name: Condition, dtype: int64"
            ]
          },
          "metadata": {},
          "execution_count": 8
        }
      ]
    },
    {
      "cell_type": "markdown",
      "source": [
        "New cars are 2697 , used cars are 2022 , Honda certified cars are 280."
      ],
      "metadata": {
        "id": "8PIlnKZi2enz"
      }
    },
    {
      "cell_type": "markdown",
      "source": [
        "# Classifying cars in various categories."
      ],
      "metadata": {
        "id": "V31DEOQfvrIC"
      }
    },
    {
      "cell_type": "code",
      "source": [
        "# Create a function to classify the cars\n",
        "# Define thresholds for each rating category\n",
        "excellent_threshold = 4.8\n",
        "good_threshold = 4.6\n",
        "fair_threshold = 4\n",
        "\n",
        "def classify(range):\n",
        "    if all(range >= excellent_threshold):\n",
        "        return 'Excellent'\n",
        "    elif all(range >= good_threshold):\n",
        "        return 'Good'\n",
        "    elif all(range >= fair_threshold):\n",
        "        return 'Fair'\n",
        "    else:\n",
        "        return 'poor'\n",
        "\n",
        "# Apply the classification function to create a new column\n",
        "honda_data['Classification'] = honda_data[['Reliability_Rating', 'Exterior_Styling_Rating', 'Value_For_Money_Rating',\n",
        "                               'Performance_Rating', 'Interior_Design_Rating', 'Comfort_Rating']].apply(classify , axis=1)\n",
        "\n",
        "# Count the number of cars in each classification category\n",
        "count = honda_data['Classification'].value_counts()\n",
        "\n",
        "\n",
        "# Print the counts\n",
        "print(count)"
      ],
      "metadata": {
        "colab": {
          "base_uri": "https://localhost:8080/"
        },
        "id": "cti4OLVyv2B2",
        "outputId": "4785fbf2-bcee-4837-9701-59f27ea497dc"
      },
      "execution_count": null,
      "outputs": [
        {
          "output_type": "stream",
          "name": "stdout",
          "text": [
            "Fair         1770\n",
            "Excellent    1411\n",
            "Good          964\n",
            "poor          854\n",
            "Name: Classification, dtype: int64\n"
          ]
        }
      ]
    },
    {
      "cell_type": "markdown",
      "source": [
        " MISSING VALUES"
      ],
      "metadata": {
        "id": "YEIQ9GOR1tr_"
      }
    },
    {
      "cell_type": "code",
      "source": [
        "honda_data.isnull().sum()"
      ],
      "metadata": {
        "colab": {
          "base_uri": "https://localhost:8080/"
        },
        "id": "gJW6PxVQg11h",
        "outputId": "89e915bd-fe23-402e-d015-ab0228e4dfe7"
      },
      "execution_count": null,
      "outputs": [
        {
          "output_type": "execute_result",
          "data": {
            "text/plain": [
              "Year                          0\n",
              "Make                          0\n",
              "Model                         0\n",
              "Condition                     0\n",
              "Price                         0\n",
              "Consumer_Rating               0\n",
              "Consumer_Review_#             0\n",
              "Exterior_Color               11\n",
              "Interior_Color               11\n",
              "Drivetrain                   11\n",
              "MPG                        1485\n",
              "Fuel_Type                    11\n",
              "Transmission                 11\n",
              "Engine                       11\n",
              "VIN                          11\n",
              "Stock_#                      11\n",
              "Mileage                      11\n",
              "Comfort_Rating              552\n",
              "Interior_Design_Rating      552\n",
              "Performance_Rating          552\n",
              "Value_For_Money_Rating      552\n",
              "Exterior_Styling_Rating     552\n",
              "Reliability_Rating          552\n",
              "State                        73\n",
              "Seller_Type                  73\n",
              "Classification                0\n",
              "dtype: int64"
            ]
          },
          "metadata": {},
          "execution_count": 10
        }
      ]
    },
    {
      "cell_type": "markdown",
      "source": [
        "the output above depicts that there are no missing values in the condition column of the dataset."
      ],
      "metadata": {
        "id": "_wxQ6CYv2E5t"
      }
    },
    {
      "cell_type": "markdown",
      "source": [
        "# TASK 1 (2)"
      ],
      "metadata": {
        "id": "gukUMFcMwVaH"
      }
    },
    {
      "cell_type": "code",
      "source": [
        "honda_data = pd.read_csv('honda_sell_data.csv')\n",
        "honda_data['Price'] = honda_data['Price'].str.replace(',', '')\n",
        "honda_data['Price'] = honda_data['Price'].str.replace('$', '')\n",
        "honda_data['Price'] = pd.to_numeric(honda_data['Price'], errors='coerce')\n",
        "rating = ['Reliability_Rating','Exterior_Styling_Rating','Value_For_Money_Rating','Performance_Rating','Interior_Design_Rating','Comfort_Rating']\n",
        "resale = 'Price'\n",
        "rating_and_resale=honda_data[rating + [resale]]\n",
        "corrl = rating_and_resale.corr()\n",
        "corrl"
      ],
      "metadata": {
        "colab": {
          "base_uri": "https://localhost:8080/",
          "height": 333
        },
        "id": "u9afSU-MwaNC",
        "outputId": "92df29f6-1195-420c-e043-99374e8de8dd"
      },
      "execution_count": null,
      "outputs": [
        {
          "output_type": "execute_result",
          "data": {
            "text/plain": [
              "                         Reliability_Rating  Exterior_Styling_Rating  \\\n",
              "Reliability_Rating                 1.000000                 0.243957   \n",
              "Exterior_Styling_Rating            0.243957                 1.000000   \n",
              "Value_For_Money_Rating             0.263764                 0.647910   \n",
              "Performance_Rating                 0.367080                 0.294613   \n",
              "Interior_Design_Rating             0.239697                -0.070760   \n",
              "Comfort_Rating                     0.548966                 0.120108   \n",
              "Price                              0.465818                 0.109744   \n",
              "\n",
              "                         Value_For_Money_Rating  Performance_Rating  \\\n",
              "Reliability_Rating                     0.263764            0.367080   \n",
              "Exterior_Styling_Rating                0.647910            0.294613   \n",
              "Value_For_Money_Rating                 1.000000            0.558766   \n",
              "Performance_Rating                     0.558766            1.000000   \n",
              "Interior_Design_Rating                 0.503743            0.617695   \n",
              "Comfort_Rating                         0.021781            0.520266   \n",
              "Price                                 -0.092156            0.167715   \n",
              "\n",
              "                         Interior_Design_Rating  Comfort_Rating     Price  \n",
              "Reliability_Rating                     0.239697        0.548966  0.465818  \n",
              "Exterior_Styling_Rating               -0.070760        0.120108  0.109744  \n",
              "Value_For_Money_Rating                 0.503743        0.021781 -0.092156  \n",
              "Performance_Rating                     0.617695        0.520266  0.167715  \n",
              "Interior_Design_Rating                 1.000000        0.190414  0.137374  \n",
              "Comfort_Rating                         0.190414        1.000000  0.592254  \n",
              "Price                                  0.137374        0.592254  1.000000  "
            ],
            "text/html": [
              "\n",
              "  <div id=\"df-3122d529-9e4b-4cbd-a56e-5e54b65415c8\">\n",
              "    <div class=\"colab-df-container\">\n",
              "      <div>\n",
              "<style scoped>\n",
              "    .dataframe tbody tr th:only-of-type {\n",
              "        vertical-align: middle;\n",
              "    }\n",
              "\n",
              "    .dataframe tbody tr th {\n",
              "        vertical-align: top;\n",
              "    }\n",
              "\n",
              "    .dataframe thead th {\n",
              "        text-align: right;\n",
              "    }\n",
              "</style>\n",
              "<table border=\"1\" class=\"dataframe\">\n",
              "  <thead>\n",
              "    <tr style=\"text-align: right;\">\n",
              "      <th></th>\n",
              "      <th>Reliability_Rating</th>\n",
              "      <th>Exterior_Styling_Rating</th>\n",
              "      <th>Value_For_Money_Rating</th>\n",
              "      <th>Performance_Rating</th>\n",
              "      <th>Interior_Design_Rating</th>\n",
              "      <th>Comfort_Rating</th>\n",
              "      <th>Price</th>\n",
              "    </tr>\n",
              "  </thead>\n",
              "  <tbody>\n",
              "    <tr>\n",
              "      <th>Reliability_Rating</th>\n",
              "      <td>1.000000</td>\n",
              "      <td>0.243957</td>\n",
              "      <td>0.263764</td>\n",
              "      <td>0.367080</td>\n",
              "      <td>0.239697</td>\n",
              "      <td>0.548966</td>\n",
              "      <td>0.465818</td>\n",
              "    </tr>\n",
              "    <tr>\n",
              "      <th>Exterior_Styling_Rating</th>\n",
              "      <td>0.243957</td>\n",
              "      <td>1.000000</td>\n",
              "      <td>0.647910</td>\n",
              "      <td>0.294613</td>\n",
              "      <td>-0.070760</td>\n",
              "      <td>0.120108</td>\n",
              "      <td>0.109744</td>\n",
              "    </tr>\n",
              "    <tr>\n",
              "      <th>Value_For_Money_Rating</th>\n",
              "      <td>0.263764</td>\n",
              "      <td>0.647910</td>\n",
              "      <td>1.000000</td>\n",
              "      <td>0.558766</td>\n",
              "      <td>0.503743</td>\n",
              "      <td>0.021781</td>\n",
              "      <td>-0.092156</td>\n",
              "    </tr>\n",
              "    <tr>\n",
              "      <th>Performance_Rating</th>\n",
              "      <td>0.367080</td>\n",
              "      <td>0.294613</td>\n",
              "      <td>0.558766</td>\n",
              "      <td>1.000000</td>\n",
              "      <td>0.617695</td>\n",
              "      <td>0.520266</td>\n",
              "      <td>0.167715</td>\n",
              "    </tr>\n",
              "    <tr>\n",
              "      <th>Interior_Design_Rating</th>\n",
              "      <td>0.239697</td>\n",
              "      <td>-0.070760</td>\n",
              "      <td>0.503743</td>\n",
              "      <td>0.617695</td>\n",
              "      <td>1.000000</td>\n",
              "      <td>0.190414</td>\n",
              "      <td>0.137374</td>\n",
              "    </tr>\n",
              "    <tr>\n",
              "      <th>Comfort_Rating</th>\n",
              "      <td>0.548966</td>\n",
              "      <td>0.120108</td>\n",
              "      <td>0.021781</td>\n",
              "      <td>0.520266</td>\n",
              "      <td>0.190414</td>\n",
              "      <td>1.000000</td>\n",
              "      <td>0.592254</td>\n",
              "    </tr>\n",
              "    <tr>\n",
              "      <th>Price</th>\n",
              "      <td>0.465818</td>\n",
              "      <td>0.109744</td>\n",
              "      <td>-0.092156</td>\n",
              "      <td>0.167715</td>\n",
              "      <td>0.137374</td>\n",
              "      <td>0.592254</td>\n",
              "      <td>1.000000</td>\n",
              "    </tr>\n",
              "  </tbody>\n",
              "</table>\n",
              "</div>\n",
              "      <button class=\"colab-df-convert\" onclick=\"convertToInteractive('df-3122d529-9e4b-4cbd-a56e-5e54b65415c8')\"\n",
              "              title=\"Convert this dataframe to an interactive table.\"\n",
              "              style=\"display:none;\">\n",
              "        \n",
              "  <svg xmlns=\"http://www.w3.org/2000/svg\" height=\"24px\"viewBox=\"0 0 24 24\"\n",
              "       width=\"24px\">\n",
              "    <path d=\"M0 0h24v24H0V0z\" fill=\"none\"/>\n",
              "    <path d=\"M18.56 5.44l.94 2.06.94-2.06 2.06-.94-2.06-.94-.94-2.06-.94 2.06-2.06.94zm-11 1L8.5 8.5l.94-2.06 2.06-.94-2.06-.94L8.5 2.5l-.94 2.06-2.06.94zm10 10l.94 2.06.94-2.06 2.06-.94-2.06-.94-.94-2.06-.94 2.06-2.06.94z\"/><path d=\"M17.41 7.96l-1.37-1.37c-.4-.4-.92-.59-1.43-.59-.52 0-1.04.2-1.43.59L10.3 9.45l-7.72 7.72c-.78.78-.78 2.05 0 2.83L4 21.41c.39.39.9.59 1.41.59.51 0 1.02-.2 1.41-.59l7.78-7.78 2.81-2.81c.8-.78.8-2.07 0-2.86zM5.41 20L4 18.59l7.72-7.72 1.47 1.35L5.41 20z\"/>\n",
              "  </svg>\n",
              "      </button>\n",
              "      \n",
              "  <style>\n",
              "    .colab-df-container {\n",
              "      display:flex;\n",
              "      flex-wrap:wrap;\n",
              "      gap: 12px;\n",
              "    }\n",
              "\n",
              "    .colab-df-convert {\n",
              "      background-color: #E8F0FE;\n",
              "      border: none;\n",
              "      border-radius: 50%;\n",
              "      cursor: pointer;\n",
              "      display: none;\n",
              "      fill: #1967D2;\n",
              "      height: 32px;\n",
              "      padding: 0 0 0 0;\n",
              "      width: 32px;\n",
              "    }\n",
              "\n",
              "    .colab-df-convert:hover {\n",
              "      background-color: #E2EBFA;\n",
              "      box-shadow: 0px 1px 2px rgba(60, 64, 67, 0.3), 0px 1px 3px 1px rgba(60, 64, 67, 0.15);\n",
              "      fill: #174EA6;\n",
              "    }\n",
              "\n",
              "    [theme=dark] .colab-df-convert {\n",
              "      background-color: #3B4455;\n",
              "      fill: #D2E3FC;\n",
              "    }\n",
              "\n",
              "    [theme=dark] .colab-df-convert:hover {\n",
              "      background-color: #434B5C;\n",
              "      box-shadow: 0px 1px 3px 1px rgba(0, 0, 0, 0.15);\n",
              "      filter: drop-shadow(0px 1px 2px rgba(0, 0, 0, 0.3));\n",
              "      fill: #FFFFFF;\n",
              "    }\n",
              "  </style>\n",
              "\n",
              "      <script>\n",
              "        const buttonEl =\n",
              "          document.querySelector('#df-3122d529-9e4b-4cbd-a56e-5e54b65415c8 button.colab-df-convert');\n",
              "        buttonEl.style.display =\n",
              "          google.colab.kernel.accessAllowed ? 'block' : 'none';\n",
              "\n",
              "        async function convertToInteractive(key) {\n",
              "          const element = document.querySelector('#df-3122d529-9e4b-4cbd-a56e-5e54b65415c8');\n",
              "          const dataTable =\n",
              "            await google.colab.kernel.invokeFunction('convertToInteractive',\n",
              "                                                     [key], {});\n",
              "          if (!dataTable) return;\n",
              "\n",
              "          const docLinkHtml = 'Like what you see? Visit the ' +\n",
              "            '<a target=\"_blank\" href=https://colab.research.google.com/notebooks/data_table.ipynb>data table notebook</a>'\n",
              "            + ' to learn more about interactive tables.';\n",
              "          element.innerHTML = '';\n",
              "          dataTable['output_type'] = 'display_data';\n",
              "          await google.colab.output.renderOutput(dataTable, element);\n",
              "          const docLink = document.createElement('div');\n",
              "          docLink.innerHTML = docLinkHtml;\n",
              "          element.appendChild(docLink);\n",
              "        }\n",
              "      </script>\n",
              "    </div>\n",
              "  </div>\n",
              "  "
            ]
          },
          "metadata": {},
          "execution_count": 2
        }
      ]
    },
    {
      "cell_type": "markdown",
      "source": [
        "car ratings and resale value definetly has a correlation between them. it is depicted above in tabular form. correlation coefficient always has a value between -1 and 1."
      ],
      "metadata": {
        "id": "Vk4emeur30OE"
      }
    },
    {
      "cell_type": "markdown",
      "source": [
        "# TASK 1 (3)"
      ],
      "metadata": {
        "id": "Avj91mnv6iXU"
      }
    },
    {
      "cell_type": "code",
      "source": [
        "import pandas as pd\n",
        "import matplotlib.pyplot as plt\n",
        "import numpy as np\n",
        "honda_data = pd.read_csv('honda_sell_data.csv')\n",
        "\n",
        "\n",
        "honda_data = honda_data[honda_data['Price'] != 'Not Priced']\n",
        "\n",
        "# Remove commas and convert 'Price' column to numeric\n",
        "honda_data['Price'] = honda_data['Price'].str.replace(',', '')\n",
        "honda_data['Price'] = honda_data['Price'].str.replace('$', '')\n",
        "honda_data['Price'] = pd.to_numeric(honda_data['Price'], errors='coerce')\n",
        "\n",
        "# Group the data by drivetrain and calculate the average resale value\n",
        "average_resale_by_drivetrain = honda_data.groupby('Drivetrain')['Price'].mean()\n",
        "\n",
        "# Create a bar plot\n",
        "plt.bar(average_resale_by_drivetrain.index, average_resale_by_drivetrain.values)\n",
        "plt.xlabel('Drivetrain')\n",
        "plt.ylabel('Average Resale Value')\n",
        "plt.title('Average Resale Value v/s Drivetrain')\n",
        "plt.xticks(rotation = 70)\n",
        "plt.show()\n"
      ],
      "metadata": {
        "id": "jpelW1DLwaSV",
        "colab": {
          "base_uri": "https://localhost:8080/",
          "height": 578
        },
        "outputId": "723aaa93-76b1-45f5-a0e4-32e0fac60359"
      },
      "execution_count": null,
      "outputs": [
        {
          "output_type": "display_data",
          "data": {
            "text/plain": [
              "<Figure size 640x480 with 1 Axes>"
            ],
            "image/png": "[encoded data removed]"
          },
          "metadata": {}
        }
      ]
    },
    {
      "cell_type": "markdown",
      "source": [
        " the above graph depicts the affect of drivetrain on the resale value. we can see that AWD drivetrain has the maximum resale value and four wheel drive has the least average resale value."
      ],
      "metadata": {
        "id": "3VsVoWgy8gQC"
      }
    },
    {
      "cell_type": "markdown",
      "source": [
        "# TASK 1(4)"
      ],
      "metadata": {
        "id": "1ZhK30U3fH3C"
      }
    },
    {
      "cell_type": "code",
      "source": [
        "from matplotlib.cm import datad\n",
        "import pandas as pd\n",
        "import matplotlib.pyplot as plt\n",
        "import numpy as np\n",
        "honda_data = pd.read_csv('honda_sell_data.csv')\n",
        "\n",
        "\n",
        "\n",
        "\n",
        "honda_data = honda_data[honda_data['Price'] != 'Not Priced']\n",
        "\n",
        "\n",
        "honda_data['Price'] = honda_data['Price'].str.replace(',', '')\n",
        "honda_data['Price'] = honda_data['Price'].str.replace('$', '')\n",
        "honda_data['Price'] = pd.to_numeric(honda_data['Price'], errors='coerce')\n",
        "\n",
        "\n",
        "average_resale_by_drivetrain = honda_data.groupby('Transmission')['Price'].mean()\n",
        "print(average_resale_by_drivetrain)\n",
        "min_price = average_resale_by_drivetrain.min()\n",
        "print(\"Minimum price:\", min_price)\n",
        "max_price = average_resale_by_drivetrain.max()\n",
        "print(\"Maximum price:\", max_price)\n"
      ],
      "metadata": {
        "id": "7kbVwT_ShZro",
        "colab": {
          "base_uri": "https://localhost:8080/"
        },
        "outputId": "25646dc2-41c0-4d2d-cf8d-7c52af33f504"
      },
      "execution_count": null,
      "outputs": [
        {
          "output_type": "stream",
          "name": "stdout",
          "text": [
            "Transmission\n",
            "1-Speed Automatic                                40240.000000\n",
            "1-Speed CVT w/OD                                 13990.000000\n",
            "1-Speed CVT with Overdrive                       34998.888889\n",
            "10 speed automatic                               41066.142857\n",
            "10-SPEED A/T                                     46680.461538\n",
            "10-Speed Automatic                               41743.717073\n",
            "10-Speed Automatic with Overdrive                43803.833333\n",
            "141.0HP 1.8L 4 Cylinder Engine Gasoline Fuel     20999.000000\n",
            "166.0HP 2.4L 4 Cylinder Engine Gasoline Fuel      7900.000000\n",
            "177.0HP 2.4L 4 Cylinder Engine Gasoline Fuel     11750.000000\n",
            "2                                                45615.000000\n",
            "205.0HP 1.5L 4 Cylinder Engine Gasoline Fuel     27900.000000\n",
            "240.0HP 2.0L 4 Cylinder Engine Gasoline Fuel     39500.000000\n",
            "241.0HP 3.5L V6 Cylinder Engine Gasoline Fuel     8475.000000\n",
            "4-SPEED A/T                                       4999.000000\n",
            "4-Speed Automatic                                 9076.250000\n",
            "5 Speed Automatic                                 7999.000000\n",
            "5-SPEED A/T                                       9023.900000\n",
            "5-SPEED M/T                                       8965.000000\n",
            "5-Speed Automatic                                12931.075758\n",
            "5-Speed Manual                                   11171.538462\n",
            "6 speed automatic                                30890.000000\n",
            "6-SPEED A/T                                      27438.200000\n",
            "6-SPEED M/T                                      43590.500000\n",
            "6-Speed Automatic                                26266.709957\n",
            "6-Speed Manual                                   30314.419753\n",
            "9 speed automatic                                36925.000000\n",
            "9-SPEED A/T                                      42687.566667\n",
            "9-Speed                                          44358.333333\n",
            "9-Speed Automatic                                40139.513867\n",
            "9-Speed Automatic with Overdrive                 43344.000000\n",
            "AUTOMATIC                                        35776.500000\n",
            "Automatic                                        43362.434146\n",
            "Automatic 5-Speed                                12997.000000\n",
            "Automatic CVT                                    29244.755237\n",
            "Automatic, 5-Spd                                 18995.000000\n",
            "Automatic, 6-Spd                                 29999.000000\n",
            "CVT                                              29300.350000\n",
            "CVT TRANSMISSION                                 14550.000000\n",
            "Close-Ratio 6-Speed Manual                       19999.000000\n",
            "Continuously Variable Transmission               24195.000000\n",
            "Electronically Controlled Automatic              37195.000000\n",
            "Manual                                           28595.575758\n",
            "NOT SPECIFIED                                    44207.500000\n",
            "OTHER                                            41796.000000\n",
            "TRANSMISSION W DRIVER SELECTABLE MODE            36505.000000\n",
            "Variable                                         31858.655172\n",
            "continuously variable                            27100.470588\n",
            "continuously variable (cvt)                      18095.600000\n",
            "continuously variable (ll cvt)                   27650.500000\n",
            "continuously variable (m cvt)                    28068.666667\n",
            "continuously variable automatic                  36709.750000\n",
            "continuously variable w/sport mode               29170.851852\n",
            "e continuously variable (e cvt)                  26906.000000\n",
            "eCVT                                             36173.571429\n",
            "electric continuously variable                   22089.333333\n",
            "electronic continuously variable                 37325.529412\n",
            "–                                                40432.961538\n",
            "Name: Price, dtype: float64\n",
            "Minimum price: 4999.0\n",
            "Maximum price: 46680.46153846154\n"
          ]
        }
      ]
    },
    {
      "cell_type": "markdown",
      "source": [
        "average resale value with transmission type data is given the price of 4-speed A/T is lowest and that of 10-speed A/T is the highest."
      ],
      "metadata": {
        "id": "LA6m695A-hZO"
      }
    },
    {
      "cell_type": "markdown",
      "source": [
        "ANNOVA"
      ],
      "metadata": {
        "id": "M8pKp_SAsQ7y"
      }
    },
    {
      "cell_type": "code",
      "source": [
        "import pandas as pd\n",
        "import scipy.stats as stats"
      ],
      "metadata": {
        "id": "PbcLLLxooLqf"
      },
      "execution_count": null,
      "outputs": []
    },
    {
      "cell_type": "code",
      "source": [
        "honda_data = pd.read_csv('honda_sell_data.csv')"
      ],
      "metadata": {
        "id": "mjDpga7cokGM"
      },
      "execution_count": null,
      "outputs": []
    },
    {
      "cell_type": "code",
      "source": [
        "honda_data = honda_data[honda_data['Price'] != 'Not Priced']\n",
        "honda_data['Price'] = honda_data['Price'].str.replace(',', '')\n",
        "honda_data['Price'] = honda_data['Price'].str.replace('$', '')\n",
        "honda_data['Price'] = pd.to_numeric(honda_data['Price'], errors='coerce')\n"
      ],
      "metadata": {
        "colab": {
          "base_uri": "https://localhost:8080/"
        },
        "id": "GJptMsxpo5Yt",
        "outputId": "c513b11a-29ea-4c1e-e86b-4670ee48bd44"
      },
      "execution_count": null,
      "outputs": [
        {
          "output_type": "stream",
          "name": "stderr",
          "text": [
            "<ipython-input-6-48dd08959067>:3: FutureWarning: The default value of regex will change from True to False in a future version. In addition, single character regular expressions will *not* be treated as literal strings when regex=True.\n",
            "  honda_data['Price'] = honda_data['Price'].str.replace('$', '')\n"
          ]
        }
      ]
    },
    {
      "cell_type": "code",
      "source": [
        "honda_data = honda_data.dropna(subset = ['Price'])"
      ],
      "metadata": {
        "id": "1MSEj_Lmoj5Y"
      },
      "execution_count": null,
      "outputs": []
    },
    {
      "cell_type": "code",
      "source": [
        "group_data = honda_data.groupby('Transmission')['Price']"
      ],
      "metadata": {
        "id": "VF62OAi6oj2q"
      },
      "execution_count": null,
      "outputs": []
    },
    {
      "cell_type": "code",
      "source": [
        "result = stats.ttest_ind(group_data.get_group ('Automatic'),group_data.get_group ('Manual'))"
      ],
      "metadata": {
        "id": "8ufiJC76p7xM"
      },
      "execution_count": null,
      "outputs": []
    },
    {
      "cell_type": "code",
      "source": [
        "print(\"T static:\",result.statistic)\n",
        "print(\"P value:\" , result.pvalue)"
      ],
      "metadata": {
        "colab": {
          "base_uri": "https://localhost:8080/"
        },
        "id": "r0btOcgHp7u_",
        "outputId": "bd84aa21-8204-4063-8f37-f859522c30c8"
      },
      "execution_count": null,
      "outputs": [
        {
          "output_type": "stream",
          "name": "stdout",
          "text": [
            "T static: 9.508399076127455\n",
            "P value: 1.261659000257764e-19\n"
          ]
        }
      ]
    },
    {
      "cell_type": "markdown",
      "source": [
        "The ANNOVA results indicate a significant difference in the average price along the transmission categories in the dataset."
      ],
      "metadata": {
        "id": "Z-OWcDitrzVE"
      }
    },
    {
      "cell_type": "markdown",
      "source": [
        "## TASK 1 (5)"
      ],
      "metadata": {
        "id": "xBO5nDd6h-wH"
      }
    },
    {
      "cell_type": "code",
      "source": [
        "honda_data = pd.read_csv('honda_sell_data.csv')\n",
        "plt.hist(honda_data['Price'] , bins = 20)\n",
        "plt.title(\"DISTRIBUTION OF CAR PRICES\")\n",
        "plt.ylabel(\"car prices\")\n",
        "\n",
        "plt.show()"
      ],
      "metadata": {
        "colab": {
          "base_uri": "https://localhost:8080/",
          "height": 452
        },
        "id": "sVxexM49iBTC",
        "outputId": "5d6904f9-0599-465d-bc5b-08707f6fb918"
      },
      "execution_count": null,
      "outputs": [
        {
          "output_type": "display_data",
          "data": {
            "text/plain": [
              "<Figure size 640x480 with 1 Axes>"
            ],
            "image/png": "[encoded data removed]"
          },
          "metadata": {}
        }
      ]
    },
    {
      "cell_type": "markdown",
      "source": [
        "OUTLIER IN PRICING : the unusual pricing of $1995 for a specific car in the dataset can be considered as the outlier as this value is lower as compared to others. This could be due to data entry error , special discount or any other circumstance."
      ],
      "metadata": {
        "id": "liud8g3xAKcN"
      }
    },
    {
      "cell_type": "code",
      "source": [
        "honda_data.fillna(honda_data.mean(),inplace=True)\n",
        "honda_data"
      ],
      "metadata": {
        "colab": {
          "base_uri": "https://localhost:8080/",
          "height": 730
        },
        "id": "kZwV2ZPVmHZq",
        "outputId": "f7a13f11-0a22-44bb-8f52-eb326155d3c7"
      },
      "execution_count": null,
      "outputs": [
        {
          "output_type": "execute_result",
          "data": {
            "text/plain": [
              "      Year   Make                      Model Condition    Price  \\\n",
              "0     2023  Honda              Ridgeline RTL       New  $46,370   \n",
              "1     2023  Honda          CR-V Hybrid Sport       New  $34,150   \n",
              "2     2023  Honda          CR-V Hybrid Sport       New  $34,245   \n",
              "3     2022  Honda           Pilot TrailSport       New  $46,500   \n",
              "4     2023  Honda  CR-V Hybrid Sport Touring       New  $40,395   \n",
              "...    ...    ...                        ...       ...      ...   \n",
              "4994  2018  Honda               Accord Sport      Used  $19,999   \n",
              "4995  2020  Honda                     Fit LX      Used  $17,495   \n",
              "4996  2018  Honda                Civic Sport      Used  $19,500   \n",
              "4997  2011  Honda                Accord EX-L      Used  $17,998   \n",
              "4998  2023  Honda                Pilot Elite       New  $53,325   \n",
              "\n",
              "      Consumer_Rating  Consumer_Review_#           Exterior_Color  \\\n",
              "0                 4.8                  9     Platinum White Pearl   \n",
              "1                 1.7                 24     Platinum White Pearl   \n",
              "2                 4.7               2869  Meteorite Gray Metallic   \n",
              "3                 5.0                 12         Sonic Gray Pearl   \n",
              "4                 4.4                 12      Crystal Black Pearl   \n",
              "...               ...                ...                      ...   \n",
              "4994              5.0               3234                    White   \n",
              "4995              4.3                 54                      Red   \n",
              "4996              4.3               1925       White Orchid Pearl   \n",
              "4997              4.6                  4                    Black   \n",
              "4998              4.3                240    Modern Steel Metallic   \n",
              "\n",
              "     Interior_Color         Drivetrain  ...    Stock_# Mileage Comfort_Rating  \\\n",
              "0             Beige    All-wheel Drive  ...     830164      10        5.00000   \n",
              "1             Black                FWD  ...    6402953       –        5.00000   \n",
              "2             Black  Front-wheel Drive  ...   PH704805       1        5.00000   \n",
              "3             Black    All-wheel Drive  ...   5700429B       5        5.00000   \n",
              "4             Black    All-wheel Drive  ...    5705954       5        5.00000   \n",
              "...             ...                ...  ...        ...     ...            ...   \n",
              "4994          Black  Front-wheel Drive  ...     U20361   64719        4.80000   \n",
              "4995          Black  Front-wheel Drive  ...      36117   40902        4.70000   \n",
              "4996          Beige  Front-wheel Drive  ...  NA073727A   82906        4.70000   \n",
              "4997          Black  Front-wheel Drive  ...   22941503   88050        4.40000   \n",
              "4998          Brown    All-wheel Drive  ...    H000466       0        4.81754   \n",
              "\n",
              "     Interior_Design_Rating Performance_Rating Value_For_Money_Rating  \\\n",
              "0                  4.800000           4.800000               4.200000   \n",
              "1                  3.000000           4.000000               4.000000   \n",
              "2                  3.000000           4.000000               4.000000   \n",
              "3                  5.000000           5.000000               5.000000   \n",
              "4                  3.000000           4.000000               4.000000   \n",
              "...                     ...                ...                    ...   \n",
              "4994               4.800000           4.700000               4.700000   \n",
              "4995               4.600000           4.700000               4.800000   \n",
              "4996               4.700000           4.800000               4.800000   \n",
              "4997               4.500000           4.400000               4.600000   \n",
              "4998               4.706814           4.663931               4.580976   \n",
              "\n",
              "     Exterior_Styling_Rating  Reliability_Rating  State  Seller_Type  \n",
              "0                   5.000000            5.000000     CA       Dealer  \n",
              "1                   5.000000            5.000000     CA       Dealer  \n",
              "2                   5.000000            5.000000     CA       Dealer  \n",
              "3                   5.000000            5.000000     CA       Dealer  \n",
              "4                   5.000000            5.000000     CA       Dealer  \n",
              "...                      ...                 ...    ...          ...  \n",
              "4994                4.800000            4.800000     NY       Dealer  \n",
              "4995                4.500000            4.800000     NY       Dealer  \n",
              "4996                4.900000            4.800000     CT       Dealer  \n",
              "4997                4.500000            4.800000     MA       Dealer  \n",
              "4998                4.731954            4.866269     ME       Dealer  \n",
              "\n",
              "[4999 rows x 25 columns]"
            ],
            "text/html": [
              "\n",
              "  <div id=\"df-f9e0d3db-a9ce-4130-b24f-343013814a83\">\n",
              "    <div class=\"colab-df-container\">\n",
              "      <div>\n",
              "<style scoped>\n",
              "    .dataframe tbody tr th:only-of-type {\n",
              "        vertical-align: middle;\n",
              "    }\n",
              "\n",
              "    .dataframe tbody tr th {\n",
              "        vertical-align: top;\n",
              "    }\n",
              "\n",
              "    .dataframe thead th {\n",
              "        text-align: right;\n",
              "    }\n",
              "</style>\n",
              "<table border=\"1\" class=\"dataframe\">\n",
              "  <thead>\n",
              "    <tr style=\"text-align: right;\">\n",
              "      <th></th>\n",
              "      <th>Year</th>\n",
              "      <th>Make</th>\n",
              "      <th>Model</th>\n",
              "      <th>Condition</th>\n",
              "      <th>Price</th>\n",
              "      <th>Consumer_Rating</th>\n",
              "      <th>Consumer_Review_#</th>\n",
              "      <th>Exterior_Color</th>\n",
              "      <th>Interior_Color</th>\n",
              "      <th>Drivetrain</th>\n",
              "      <th>...</th>\n",
              "      <th>Stock_#</th>\n",
              "      <th>Mileage</th>\n",
              "      <th>Comfort_Rating</th>\n",
              "      <th>Interior_Design_Rating</th>\n",
              "      <th>Performance_Rating</th>\n",
              "      <th>Value_For_Money_Rating</th>\n",
              "      <th>Exterior_Styling_Rating</th>\n",
              "      <th>Reliability_Rating</th>\n",
              "      <th>State</th>\n",
              "      <th>Seller_Type</th>\n",
              "    </tr>\n",
              "  </thead>\n",
              "  <tbody>\n",
              "    <tr>\n",
              "      <th>0</th>\n",
              "      <td>2023</td>\n",
              "      <td>Honda</td>\n",
              "      <td>Ridgeline RTL</td>\n",
              "      <td>New</td>\n",
              "      <td>$46,370</td>\n",
              "      <td>4.8</td>\n",
              "      <td>9</td>\n",
              "      <td>Platinum White Pearl</td>\n",
              "      <td>Beige</td>\n",
              "      <td>All-wheel Drive</td>\n",
              "      <td>...</td>\n",
              "      <td>830164</td>\n",
              "      <td>10</td>\n",
              "      <td>5.00000</td>\n",
              "      <td>4.800000</td>\n",
              "      <td>4.800000</td>\n",
              "      <td>4.200000</td>\n",
              "      <td>5.000000</td>\n",
              "      <td>5.000000</td>\n",
              "      <td>CA</td>\n",
              "      <td>Dealer</td>\n",
              "    </tr>\n",
              "    <tr>\n",
              "      <th>1</th>\n",
              "      <td>2023</td>\n",
              "      <td>Honda</td>\n",
              "      <td>CR-V Hybrid Sport</td>\n",
              "      <td>New</td>\n",
              "      <td>$34,150</td>\n",
              "      <td>1.7</td>\n",
              "      <td>24</td>\n",
              "      <td>Platinum White Pearl</td>\n",
              "      <td>Black</td>\n",
              "      <td>FWD</td>\n",
              "      <td>...</td>\n",
              "      <td>6402953</td>\n",
              "      <td>–</td>\n",
              "      <td>5.00000</td>\n",
              "      <td>3.000000</td>\n",
              "      <td>4.000000</td>\n",
              "      <td>4.000000</td>\n",
              "      <td>5.000000</td>\n",
              "      <td>5.000000</td>\n",
              "      <td>CA</td>\n",
              "      <td>Dealer</td>\n",
              "    </tr>\n",
              "    <tr>\n",
              "      <th>2</th>\n",
              "      <td>2023</td>\n",
              "      <td>Honda</td>\n",
              "      <td>CR-V Hybrid Sport</td>\n",
              "      <td>New</td>\n",
              "      <td>$34,245</td>\n",
              "      <td>4.7</td>\n",
              "      <td>2869</td>\n",
              "      <td>Meteorite Gray Metallic</td>\n",
              "      <td>Black</td>\n",
              "      <td>Front-wheel Drive</td>\n",
              "      <td>...</td>\n",
              "      <td>PH704805</td>\n",
              "      <td>1</td>\n",
              "      <td>5.00000</td>\n",
              "      <td>3.000000</td>\n",
              "      <td>4.000000</td>\n",
              "      <td>4.000000</td>\n",
              "      <td>5.000000</td>\n",
              "      <td>5.000000</td>\n",
              "      <td>CA</td>\n",
              "      <td>Dealer</td>\n",
              "    </tr>\n",
              "    <tr>\n",
              "      <th>3</th>\n",
              "      <td>2022</td>\n",
              "      <td>Honda</td>\n",
              "      <td>Pilot TrailSport</td>\n",
              "      <td>New</td>\n",
              "      <td>$46,500</td>\n",
              "      <td>5.0</td>\n",
              "      <td>12</td>\n",
              "      <td>Sonic Gray Pearl</td>\n",
              "      <td>Black</td>\n",
              "      <td>All-wheel Drive</td>\n",
              "      <td>...</td>\n",
              "      <td>5700429B</td>\n",
              "      <td>5</td>\n",
              "      <td>5.00000</td>\n",
              "      <td>5.000000</td>\n",
              "      <td>5.000000</td>\n",
              "      <td>5.000000</td>\n",
              "      <td>5.000000</td>\n",
              "      <td>5.000000</td>\n",
              "      <td>CA</td>\n",
              "      <td>Dealer</td>\n",
              "    </tr>\n",
              "    <tr>\n",
              "      <th>4</th>\n",
              "      <td>2023</td>\n",
              "      <td>Honda</td>\n",
              "      <td>CR-V Hybrid Sport Touring</td>\n",
              "      <td>New</td>\n",
              "      <td>$40,395</td>\n",
              "      <td>4.4</td>\n",
              "      <td>12</td>\n",
              "      <td>Crystal Black Pearl</td>\n",
              "      <td>Black</td>\n",
              "      <td>All-wheel Drive</td>\n",
              "      <td>...</td>\n",
              "      <td>5705954</td>\n",
              "      <td>5</td>\n",
              "      <td>5.00000</td>\n",
              "      <td>3.000000</td>\n",
              "      <td>4.000000</td>\n",
              "      <td>4.000000</td>\n",
              "      <td>5.000000</td>\n",
              "      <td>5.000000</td>\n",
              "      <td>CA</td>\n",
              "      <td>Dealer</td>\n",
              "    </tr>\n",
              "    <tr>\n",
              "      <th>...</th>\n",
              "      <td>...</td>\n",
              "      <td>...</td>\n",
              "      <td>...</td>\n",
              "      <td>...</td>\n",
              "      <td>...</td>\n",
              "      <td>...</td>\n",
              "      <td>...</td>\n",
              "      <td>...</td>\n",
              "      <td>...</td>\n",
              "      <td>...</td>\n",
              "      <td>...</td>\n",
              "      <td>...</td>\n",
              "      <td>...</td>\n",
              "      <td>...</td>\n",
              "      <td>...</td>\n",
              "      <td>...</td>\n",
              "      <td>...</td>\n",
              "      <td>...</td>\n",
              "      <td>...</td>\n",
              "      <td>...</td>\n",
              "      <td>...</td>\n",
              "    </tr>\n",
              "    <tr>\n",
              "      <th>4994</th>\n",
              "      <td>2018</td>\n",
              "      <td>Honda</td>\n",
              "      <td>Accord Sport</td>\n",
              "      <td>Used</td>\n",
              "      <td>$19,999</td>\n",
              "      <td>5.0</td>\n",
              "      <td>3234</td>\n",
              "      <td>White</td>\n",
              "      <td>Black</td>\n",
              "      <td>Front-wheel Drive</td>\n",
              "      <td>...</td>\n",
              "      <td>U20361</td>\n",
              "      <td>64719</td>\n",
              "      <td>4.80000</td>\n",
              "      <td>4.800000</td>\n",
              "      <td>4.700000</td>\n",
              "      <td>4.700000</td>\n",
              "      <td>4.800000</td>\n",
              "      <td>4.800000</td>\n",
              "      <td>NY</td>\n",
              "      <td>Dealer</td>\n",
              "    </tr>\n",
              "    <tr>\n",
              "      <th>4995</th>\n",
              "      <td>2020</td>\n",
              "      <td>Honda</td>\n",
              "      <td>Fit LX</td>\n",
              "      <td>Used</td>\n",
              "      <td>$17,495</td>\n",
              "      <td>4.3</td>\n",
              "      <td>54</td>\n",
              "      <td>Red</td>\n",
              "      <td>Black</td>\n",
              "      <td>Front-wheel Drive</td>\n",
              "      <td>...</td>\n",
              "      <td>36117</td>\n",
              "      <td>40902</td>\n",
              "      <td>4.70000</td>\n",
              "      <td>4.600000</td>\n",
              "      <td>4.700000</td>\n",
              "      <td>4.800000</td>\n",
              "      <td>4.500000</td>\n",
              "      <td>4.800000</td>\n",
              "      <td>NY</td>\n",
              "      <td>Dealer</td>\n",
              "    </tr>\n",
              "    <tr>\n",
              "      <th>4996</th>\n",
              "      <td>2018</td>\n",
              "      <td>Honda</td>\n",
              "      <td>Civic Sport</td>\n",
              "      <td>Used</td>\n",
              "      <td>$19,500</td>\n",
              "      <td>4.3</td>\n",
              "      <td>1925</td>\n",
              "      <td>White Orchid Pearl</td>\n",
              "      <td>Beige</td>\n",
              "      <td>Front-wheel Drive</td>\n",
              "      <td>...</td>\n",
              "      <td>NA073727A</td>\n",
              "      <td>82906</td>\n",
              "      <td>4.70000</td>\n",
              "      <td>4.700000</td>\n",
              "      <td>4.800000</td>\n",
              "      <td>4.800000</td>\n",
              "      <td>4.900000</td>\n",
              "      <td>4.800000</td>\n",
              "      <td>CT</td>\n",
              "      <td>Dealer</td>\n",
              "    </tr>\n",
              "    <tr>\n",
              "      <th>4997</th>\n",
              "      <td>2011</td>\n",
              "      <td>Honda</td>\n",
              "      <td>Accord EX-L</td>\n",
              "      <td>Used</td>\n",
              "      <td>$17,998</td>\n",
              "      <td>4.6</td>\n",
              "      <td>4</td>\n",
              "      <td>Black</td>\n",
              "      <td>Black</td>\n",
              "      <td>Front-wheel Drive</td>\n",
              "      <td>...</td>\n",
              "      <td>22941503</td>\n",
              "      <td>88050</td>\n",
              "      <td>4.40000</td>\n",
              "      <td>4.500000</td>\n",
              "      <td>4.400000</td>\n",
              "      <td>4.600000</td>\n",
              "      <td>4.500000</td>\n",
              "      <td>4.800000</td>\n",
              "      <td>MA</td>\n",
              "      <td>Dealer</td>\n",
              "    </tr>\n",
              "    <tr>\n",
              "      <th>4998</th>\n",
              "      <td>2023</td>\n",
              "      <td>Honda</td>\n",
              "      <td>Pilot Elite</td>\n",
              "      <td>New</td>\n",
              "      <td>$53,325</td>\n",
              "      <td>4.3</td>\n",
              "      <td>240</td>\n",
              "      <td>Modern Steel Metallic</td>\n",
              "      <td>Brown</td>\n",
              "      <td>All-wheel Drive</td>\n",
              "      <td>...</td>\n",
              "      <td>H000466</td>\n",
              "      <td>0</td>\n",
              "      <td>4.81754</td>\n",
              "      <td>4.706814</td>\n",
              "      <td>4.663931</td>\n",
              "      <td>4.580976</td>\n",
              "      <td>4.731954</td>\n",
              "      <td>4.866269</td>\n",
              "      <td>ME</td>\n",
              "      <td>Dealer</td>\n",
              "    </tr>\n",
              "  </tbody>\n",
              "</table>\n",
              "<p>4999 rows × 25 columns</p>\n",
              "</div>\n",
              "      <button class=\"colab-df-convert\" onclick=\"convertToInteractive('df-f9e0d3db-a9ce-4130-b24f-343013814a83')\"\n",
              "              title=\"Convert this dataframe to an interactive table.\"\n",
              "              style=\"display:none;\">\n",
              "        \n",
              "  <svg xmlns=\"http://www.w3.org/2000/svg\" height=\"24px\"viewBox=\"0 0 24 24\"\n",
              "       width=\"24px\">\n",
              "    <path d=\"M0 0h24v24H0V0z\" fill=\"none\"/>\n",
              "    <path d=\"M18.56 5.44l.94 2.06.94-2.06 2.06-.94-2.06-.94-.94-2.06-.94 2.06-2.06.94zm-11 1L8.5 8.5l.94-2.06 2.06-.94-2.06-.94L8.5 2.5l-.94 2.06-2.06.94zm10 10l.94 2.06.94-2.06 2.06-.94-2.06-.94-.94-2.06-.94 2.06-2.06.94z\"/><path d=\"M17.41 7.96l-1.37-1.37c-.4-.4-.92-.59-1.43-.59-.52 0-1.04.2-1.43.59L10.3 9.45l-7.72 7.72c-.78.78-.78 2.05 0 2.83L4 21.41c.39.39.9.59 1.41.59.51 0 1.02-.2 1.41-.59l7.78-7.78 2.81-2.81c.8-.78.8-2.07 0-2.86zM5.41 20L4 18.59l7.72-7.72 1.47 1.35L5.41 20z\"/>\n",
              "  </svg>\n",
              "      </button>\n",
              "      \n",
              "  <style>\n",
              "    .colab-df-container {\n",
              "      display:flex;\n",
              "      flex-wrap:wrap;\n",
              "      gap: 12px;\n",
              "    }\n",
              "\n",
              "    .colab-df-convert {\n",
              "      background-color: #E8F0FE;\n",
              "      border: none;\n",
              "      border-radius: 50%;\n",
              "      cursor: pointer;\n",
              "      display: none;\n",
              "      fill: #1967D2;\n",
              "      height: 32px;\n",
              "      padding: 0 0 0 0;\n",
              "      width: 32px;\n",
              "    }\n",
              "\n",
              "    .colab-df-convert:hover {\n",
              "      background-color: #E2EBFA;\n",
              "      box-shadow: 0px 1px 2px rgba(60, 64, 67, 0.3), 0px 1px 3px 1px rgba(60, 64, 67, 0.15);\n",
              "      fill: #174EA6;\n",
              "    }\n",
              "\n",
              "    [theme=dark] .colab-df-convert {\n",
              "      background-color: #3B4455;\n",
              "      fill: #D2E3FC;\n",
              "    }\n",
              "\n",
              "    [theme=dark] .colab-df-convert:hover {\n",
              "      background-color: #434B5C;\n",
              "      box-shadow: 0px 1px 3px 1px rgba(0, 0, 0, 0.15);\n",
              "      filter: drop-shadow(0px 1px 2px rgba(0, 0, 0, 0.3));\n",
              "      fill: #FFFFFF;\n",
              "    }\n",
              "  </style>\n",
              "\n",
              "      <script>\n",
              "        const buttonEl =\n",
              "          document.querySelector('#df-f9e0d3db-a9ce-4130-b24f-343013814a83 button.colab-df-convert');\n",
              "        buttonEl.style.display =\n",
              "          google.colab.kernel.accessAllowed ? 'block' : 'none';\n",
              "\n",
              "        async function convertToInteractive(key) {\n",
              "          const element = document.querySelector('#df-f9e0d3db-a9ce-4130-b24f-343013814a83');\n",
              "          const dataTable =\n",
              "            await google.colab.kernel.invokeFunction('convertToInteractive',\n",
              "                                                     [key], {});\n",
              "          if (!dataTable) return;\n",
              "\n",
              "          const docLinkHtml = 'Like what you see? Visit the ' +\n",
              "            '<a target=\"_blank\" href=https://colab.research.google.com/notebooks/data_table.ipynb>data table notebook</a>'\n",
              "            + ' to learn more about interactive tables.';\n",
              "          element.innerHTML = '';\n",
              "          dataTable['output_type'] = 'display_data';\n",
              "          await google.colab.output.renderOutput(dataTable, element);\n",
              "          const docLink = document.createElement('div');\n",
              "          docLink.innerHTML = docLinkHtml;\n",
              "          element.appendChild(docLink);\n",
              "        }\n",
              "      </script>\n",
              "    </div>\n",
              "  </div>\n",
              "  "
            ]
          },
          "metadata": {},
          "execution_count": 15
        }
      ]
    },
    {
      "cell_type": "markdown",
      "source": [
        "# TASK 2\n"
      ],
      "metadata": {
        "id": "hofzFfyu9MG1"
      }
    },
    {
      "cell_type": "markdown",
      "source": [
        "**LINEAR REGRESSION**"
      ],
      "metadata": {
        "id": "NbsJiMrMYkTw"
      }
    },
    {
      "cell_type": "code",
      "source": [
        "#Importing important libraries\n",
        "from sklearn.model_selection import train_test_split\n",
        "from sklearn.linear_model import LinearRegression\n"
      ],
      "metadata": {
        "id": "RWGF78OW9RHH"
      },
      "execution_count": null,
      "outputs": []
    },
    {
      "cell_type": "code",
      "source": [
        "honda_data.columns"
      ],
      "metadata": {
        "colab": {
          "base_uri": "https://localhost:8080/"
        },
        "id": "ISyRYnVq9RDM",
        "outputId": "126364f5-6972-4974-8590-e7460968d937"
      },
      "execution_count": null,
      "outputs": [
        {
          "output_type": "execute_result",
          "data": {
            "text/plain": [
              "Index(['Year', 'Make', 'Model', 'Condition', 'Price', 'Consumer_Rating',\n",
              "       'Consumer_Review_#', 'Exterior_Color', 'Interior_Color', 'Drivetrain',\n",
              "       'MPG', 'Fuel_Type', 'Transmission', 'Engine', 'VIN', 'Stock_#',\n",
              "       'Mileage', 'Comfort_Rating', 'Interior_Design_Rating',\n",
              "       'Performance_Rating', 'Value_For_Money_Rating',\n",
              "       'Exterior_Styling_Rating', 'Reliability_Rating', 'State',\n",
              "       'Seller_Type'],\n",
              "      dtype='object')"
            ]
          },
          "metadata": {},
          "execution_count": 9
        }
      ]
    },
    {
      "cell_type": "code",
      "source": [
        "honda_data['Year'].unique()"
      ],
      "metadata": {
        "colab": {
          "base_uri": "https://localhost:8080/"
        },
        "id": "kc4_5iEZ9RBo",
        "outputId": "178546ab-065f-4ada-f936-e9c16a7577e6"
      },
      "execution_count": null,
      "outputs": [
        {
          "output_type": "execute_result",
          "data": {
            "text/plain": [
              "array([2023, 2022, 2017, 2016, 2012, 2021, 2020, 2014, 2019, 2018, 2011,\n",
              "       2000, 2009, 2004, 2015, 2007, 1997, 2013, 2010, 2008, 2005, 1981,\n",
              "       2006, 2002, 1989, 1987, 2003, 1991, 1992, 2001, 1998, 1999, 1993])"
            ]
          },
          "metadata": {},
          "execution_count": 10
        }
      ]
    },
    {
      "cell_type": "code",
      "source": [
        "honda_data.dropna(subset=['Performance_Rating'], inplace=True)"
      ],
      "metadata": {
        "id": "xWWiGBqtRVCX"
      },
      "execution_count": null,
      "outputs": []
    },
    {
      "cell_type": "code",
      "source": [
        "#Dividing input and Output\n",
        "\n",
        "\n",
        "X = honda_data[['Year', 'Price']]\n",
        "Y = honda_data['Performance_Rating']\n"
      ],
      "metadata": {
        "id": "zLPGT-Mo9jFA"
      },
      "execution_count": null,
      "outputs": []
    },
    {
      "cell_type": "code",
      "source": [
        "X_train, X_test, Y_train, Y_test = train_test_split(X, Y, test_size=0.2, random_state=42)"
      ],
      "metadata": {
        "id": "uD0eaWFsZ2__"
      },
      "execution_count": null,
      "outputs": []
    },
    {
      "cell_type": "code",
      "source": [
        "honda_data['Price'].unique()"
      ],
      "metadata": {
        "colab": {
          "base_uri": "https://localhost:8080/"
        },
        "id": "-KBxCOJpaCop",
        "outputId": "ed2e715e-a984-4b1b-eddc-78e663140c96"
      },
      "execution_count": null,
      "outputs": [
        {
          "output_type": "execute_result",
          "data": {
            "text/plain": [
              "array([46370, 34150, 34245, ..., 24177, 28955, 17495])"
            ]
          },
          "metadata": {},
          "execution_count": 14
        }
      ]
    },
    {
      "cell_type": "code",
      "source": [
        "model = LinearRegression()"
      ],
      "metadata": {
        "id": "CZsTRKmDaMHS"
      },
      "execution_count": null,
      "outputs": []
    },
    {
      "cell_type": "code",
      "source": [
        "model.fit(X_train,Y_train)"
      ],
      "metadata": {
        "colab": {
          "base_uri": "https://localhost:8080/",
          "height": 75
        },
        "id": "evYwfILFacB2",
        "outputId": "f00943a6-1af4-44fe-e702-91e7e94616b4"
      },
      "execution_count": null,
      "outputs": [
        {
          "output_type": "execute_result",
          "data": {
            "text/plain": [
              "LinearRegression()"
            ],
            "text/html": [
              "<style>#sk-container-id-1 {color: black;background-color: white;}#sk-container-id-1 pre{padding: 0;}#sk-container-id-1 div.sk-toggleable {background-color: white;}#sk-container-id-1 label.sk-toggleable__label {cursor: pointer;display: block;width: 100%;margin-bottom: 0;padding: 0.3em;box-sizing: border-box;text-align: center;}#sk-container-id-1 label.sk-toggleable__label-arrow:before {content: \"▸\";float: left;margin-right: 0.25em;color: #696969;}#sk-container-id-1 label.sk-toggleable__label-arrow:hover:before {color: black;}#sk-container-id-1 div.sk-estimator:hover label.sk-toggleable__label-arrow:before {color: black;}#sk-container-id-1 div.sk-toggleable__content {max-height: 0;max-width: 0;overflow: hidden;text-align: left;background-color: #f0f8ff;}#sk-container-id-1 div.sk-toggleable__content pre {margin: 0.2em;color: black;border-radius: 0.25em;background-color: #f0f8ff;}#sk-container-id-1 input.sk-toggleable__control:checked~div.sk-toggleable__content {max-height: 200px;max-width: 100%;overflow: auto;}#sk-container-id-1 input.sk-toggleable__control:checked~label.sk-toggleable__label-arrow:before {content: \"▾\";}#sk-container-id-1 div.sk-estimator input.sk-toggleable__control:checked~label.sk-toggleable__label {background-color: #d4ebff;}#sk-container-id-1 div.sk-label input.sk-toggleable__control:checked~label.sk-toggleable__label {background-color: #d4ebff;}#sk-container-id-1 input.sk-hidden--visually {border: 0;clip: rect(1px 1px 1px 1px);clip: rect(1px, 1px, 1px, 1px);height: 1px;margin: -1px;overflow: hidden;padding: 0;position: absolute;width: 1px;}#sk-container-id-1 div.sk-estimator {font-family: monospace;background-color: #f0f8ff;border: 1px dotted black;border-radius: 0.25em;box-sizing: border-box;margin-bottom: 0.5em;}#sk-container-id-1 div.sk-estimator:hover {background-color: #d4ebff;}#sk-container-id-1 div.sk-parallel-item::after {content: \"\";width: 100%;border-bottom: 1px solid gray;flex-grow: 1;}#sk-container-id-1 div.sk-label:hover label.sk-toggleable__label {background-color: #d4ebff;}#sk-container-id-1 div.sk-serial::before {content: \"\";position: absolute;border-left: 1px solid gray;box-sizing: border-box;top: 0;bottom: 0;left: 50%;z-index: 0;}#sk-container-id-1 div.sk-serial {display: flex;flex-direction: column;align-items: center;background-color: white;padding-right: 0.2em;padding-left: 0.2em;position: relative;}#sk-container-id-1 div.sk-item {position: relative;z-index: 1;}#sk-container-id-1 div.sk-parallel {display: flex;align-items: stretch;justify-content: center;background-color: white;position: relative;}#sk-container-id-1 div.sk-item::before, #sk-container-id-1 div.sk-parallel-item::before {content: \"\";position: absolute;border-left: 1px solid gray;box-sizing: border-box;top: 0;bottom: 0;left: 50%;z-index: -1;}#sk-container-id-1 div.sk-parallel-item {display: flex;flex-direction: column;z-index: 1;position: relative;background-color: white;}#sk-container-id-1 div.sk-parallel-item:first-child::after {align-self: flex-end;width: 50%;}#sk-container-id-1 div.sk-parallel-item:last-child::after {align-self: flex-start;width: 50%;}#sk-container-id-1 div.sk-parallel-item:only-child::after {width: 0;}#sk-container-id-1 div.sk-dashed-wrapped {border: 1px dashed gray;margin: 0 0.4em 0.5em 0.4em;box-sizing: border-box;padding-bottom: 0.4em;background-color: white;}#sk-container-id-1 div.sk-label label {font-family: monospace;font-weight: bold;display: inline-block;line-height: 1.2em;}#sk-container-id-1 div.sk-label-container {text-align: center;}#sk-container-id-1 div.sk-container {/* jupyter's `normalize.less` sets `[hidden] { display: none; }` but bootstrap.min.css set `[hidden] { display: none !important; }` so we also need the `!important` here to be able to override the default hidden behavior on the sphinx rendered scikit-learn.org. See: https://github.com/scikit-learn/scikit-learn/issues/21755 */display: inline-block !important;position: relative;}#sk-container-id-1 div.sk-text-repr-fallback {display: none;}</style><div id=\"sk-container-id-1\" class=\"sk-top-container\"><div class=\"sk-text-repr-fallback\"><pre>LinearRegression()</pre><b>In a Jupyter environment, please rerun this cell to show the HTML representation or trust the notebook. <br />On GitHub, the HTML representation is unable to render, please try loading this page with nbviewer.org.</b></div><div class=\"sk-container\" hidden><div class=\"sk-item\"><div class=\"sk-estimator sk-toggleable\"><input class=\"sk-toggleable__control sk-hidden--visually\" id=\"sk-estimator-id-1\" type=\"checkbox\" checked><label for=\"sk-estimator-id-1\" class=\"sk-toggleable__label sk-toggleable__label-arrow\">LinearRegression</label><div class=\"sk-toggleable__content\"><pre>LinearRegression()</pre></div></div></div></div></div>"
            ]
          },
          "metadata": {},
          "execution_count": 16
        }
      ]
    },
    {
      "cell_type": "code",
      "source": [
        "model.coef_"
      ],
      "metadata": {
        "colab": {
          "base_uri": "https://localhost:8080/"
        },
        "id": "UrdjAzMIarmz",
        "outputId": "ac3cda6d-2314-4bdc-f48d-42af0377c12e"
      },
      "execution_count": null,
      "outputs": [
        {
          "output_type": "execute_result",
          "data": {
            "text/plain": [
              "array([-3.46254973e-03,  6.96777717e-06])"
            ]
          },
          "metadata": {},
          "execution_count": 17
        }
      ]
    },
    {
      "cell_type": "code",
      "source": [
        "model.intercept_"
      ],
      "metadata": {
        "colab": {
          "base_uri": "https://localhost:8080/"
        },
        "id": "yMF_u1YGarbn",
        "outputId": "e0e4fb64-4793-4601-964a-797c0ffde3fd"
      },
      "execution_count": null,
      "outputs": [
        {
          "output_type": "execute_result",
          "data": {
            "text/plain": [
              "11.428821543143407"
            ]
          },
          "metadata": {},
          "execution_count": 18
        }
      ]
    },
    {
      "cell_type": "code",
      "source": [
        "model.score(X_train,Y_train)"
      ],
      "metadata": {
        "colab": {
          "base_uri": "https://localhost:8080/"
        },
        "id": "PIGq_1s9a0ep",
        "outputId": "e0d53644-9198-44f9-db7e-f0bcc54d4907"
      },
      "execution_count": null,
      "outputs": [
        {
          "output_type": "execute_result",
          "data": {
            "text/plain": [
              "0.031403232217942056"
            ]
          },
          "metadata": {},
          "execution_count": 19
        }
      ]
    },
    {
      "cell_type": "code",
      "source": [
        "model.score(X_test,Y_test)"
      ],
      "metadata": {
        "colab": {
          "base_uri": "https://localhost:8080/"
        },
        "id": "PSC8vpZsa0bl",
        "outputId": "4d706ce0-3176-4785-a33f-15bc53923fc3"
      },
      "execution_count": null,
      "outputs": [
        {
          "output_type": "execute_result",
          "data": {
            "text/plain": [
              "0.017352290252883096"
            ]
          },
          "metadata": {},
          "execution_count": 20
        }
      ]
    },
    {
      "cell_type": "markdown",
      "source": [
        "The above method of linear regression is not a suitable method for this data set as the training score and the test score are very low. Hence we need to apply another model for getting desireable results."
      ],
      "metadata": {
        "id": "26QLEoi1bHhs"
      }
    },
    {
      "cell_type": "markdown",
      "source": [
        "# RANDOM FOREST REGRESSION"
      ],
      "metadata": {
        "id": "C0fiTTBdgKq0"
      }
    },
    {
      "cell_type": "code",
      "source": [
        "from sklearn.ensemble  import RandomForestRegressor"
      ],
      "metadata": {
        "id": "36zN_BaS9i3b"
      },
      "execution_count": null,
      "outputs": []
    },
    {
      "cell_type": "code",
      "source": [
        "model = RandomForestRegressor()"
      ],
      "metadata": {
        "id": "SPXaokDYdwLl"
      },
      "execution_count": null,
      "outputs": []
    },
    {
      "cell_type": "code",
      "source": [
        "model.fit(X_train,Y_train)"
      ],
      "metadata": {
        "colab": {
          "base_uri": "https://localhost:8080/",
          "height": 75
        },
        "id": "tHoYSpied3Qo",
        "outputId": "6e776fb2-721c-4c9d-f97c-e5cd2aac53d9"
      },
      "execution_count": null,
      "outputs": [
        {
          "output_type": "execute_result",
          "data": {
            "text/plain": [
              "RandomForestRegressor()"
            ],
            "text/html": [
              "<style>#sk-container-id-2 {color: black;background-color: white;}#sk-container-id-2 pre{padding: 0;}#sk-container-id-2 div.sk-toggleable {background-color: white;}#sk-container-id-2 label.sk-toggleable__label {cursor: pointer;display: block;width: 100%;margin-bottom: 0;padding: 0.3em;box-sizing: border-box;text-align: center;}#sk-container-id-2 label.sk-toggleable__label-arrow:before {content: \"▸\";float: left;margin-right: 0.25em;color: #696969;}#sk-container-id-2 label.sk-toggleable__label-arrow:hover:before {color: black;}#sk-container-id-2 div.sk-estimator:hover label.sk-toggleable__label-arrow:before {color: black;}#sk-container-id-2 div.sk-toggleable__content {max-height: 0;max-width: 0;overflow: hidden;text-align: left;background-color: #f0f8ff;}#sk-container-id-2 div.sk-toggleable__content pre {margin: 0.2em;color: black;border-radius: 0.25em;background-color: #f0f8ff;}#sk-container-id-2 input.sk-toggleable__control:checked~div.sk-toggleable__content {max-height: 200px;max-width: 100%;overflow: auto;}#sk-container-id-2 input.sk-toggleable__control:checked~label.sk-toggleable__label-arrow:before {content: \"▾\";}#sk-container-id-2 div.sk-estimator input.sk-toggleable__control:checked~label.sk-toggleable__label {background-color: #d4ebff;}#sk-container-id-2 div.sk-label input.sk-toggleable__control:checked~label.sk-toggleable__label {background-color: #d4ebff;}#sk-container-id-2 input.sk-hidden--visually {border: 0;clip: rect(1px 1px 1px 1px);clip: rect(1px, 1px, 1px, 1px);height: 1px;margin: -1px;overflow: hidden;padding: 0;position: absolute;width: 1px;}#sk-container-id-2 div.sk-estimator {font-family: monospace;background-color: #f0f8ff;border: 1px dotted black;border-radius: 0.25em;box-sizing: border-box;margin-bottom: 0.5em;}#sk-container-id-2 div.sk-estimator:hover {background-color: #d4ebff;}#sk-container-id-2 div.sk-parallel-item::after {content: \"\";width: 100%;border-bottom: 1px solid gray;flex-grow: 1;}#sk-container-id-2 div.sk-label:hover label.sk-toggleable__label {background-color: #d4ebff;}#sk-container-id-2 div.sk-serial::before {content: \"\";position: absolute;border-left: 1px solid gray;box-sizing: border-box;top: 0;bottom: 0;left: 50%;z-index: 0;}#sk-container-id-2 div.sk-serial {display: flex;flex-direction: column;align-items: center;background-color: white;padding-right: 0.2em;padding-left: 0.2em;position: relative;}#sk-container-id-2 div.sk-item {position: relative;z-index: 1;}#sk-container-id-2 div.sk-parallel {display: flex;align-items: stretch;justify-content: center;background-color: white;position: relative;}#sk-container-id-2 div.sk-item::before, #sk-container-id-2 div.sk-parallel-item::before {content: \"\";position: absolute;border-left: 1px solid gray;box-sizing: border-box;top: 0;bottom: 0;left: 50%;z-index: -1;}#sk-container-id-2 div.sk-parallel-item {display: flex;flex-direction: column;z-index: 1;position: relative;background-color: white;}#sk-container-id-2 div.sk-parallel-item:first-child::after {align-self: flex-end;width: 50%;}#sk-container-id-2 div.sk-parallel-item:last-child::after {align-self: flex-start;width: 50%;}#sk-container-id-2 div.sk-parallel-item:only-child::after {width: 0;}#sk-container-id-2 div.sk-dashed-wrapped {border: 1px dashed gray;margin: 0 0.4em 0.5em 0.4em;box-sizing: border-box;padding-bottom: 0.4em;background-color: white;}#sk-container-id-2 div.sk-label label {font-family: monospace;font-weight: bold;display: inline-block;line-height: 1.2em;}#sk-container-id-2 div.sk-label-container {text-align: center;}#sk-container-id-2 div.sk-container {/* jupyter's `normalize.less` sets `[hidden] { display: none; }` but bootstrap.min.css set `[hidden] { display: none !important; }` so we also need the `!important` here to be able to override the default hidden behavior on the sphinx rendered scikit-learn.org. See: https://github.com/scikit-learn/scikit-learn/issues/21755 */display: inline-block !important;position: relative;}#sk-container-id-2 div.sk-text-repr-fallback {display: none;}</style><div id=\"sk-container-id-2\" class=\"sk-top-container\"><div class=\"sk-text-repr-fallback\"><pre>RandomForestRegressor()</pre><b>In a Jupyter environment, please rerun this cell to show the HTML representation or trust the notebook. <br />On GitHub, the HTML representation is unable to render, please try loading this page with nbviewer.org.</b></div><div class=\"sk-container\" hidden><div class=\"sk-item\"><div class=\"sk-estimator sk-toggleable\"><input class=\"sk-toggleable__control sk-hidden--visually\" id=\"sk-estimator-id-2\" type=\"checkbox\" checked><label for=\"sk-estimator-id-2\" class=\"sk-toggleable__label sk-toggleable__label-arrow\">RandomForestRegressor</label><div class=\"sk-toggleable__content\"><pre>RandomForestRegressor()</pre></div></div></div></div></div>"
            ]
          },
          "metadata": {},
          "execution_count": 23
        }
      ]
    },
    {
      "cell_type": "code",
      "source": [
        "Y_pred = model.predict(X_test)"
      ],
      "metadata": {
        "id": "b0K5d_Xod9i4"
      },
      "execution_count": null,
      "outputs": []
    },
    {
      "cell_type": "code",
      "source": [
        "from sklearn.metrics  import mean_squared_error, r2_score\n",
        "error = mean_squared_error(Y_test,Y_pred)\n",
        "r2 =  r2_score(Y_test,Y_pred)\n",
        "print(\"Mean squared error: \",error)\n",
        "print(\"R-squared\",r2)"
      ],
      "metadata": {
        "colab": {
          "base_uri": "https://localhost:8080/"
        },
        "id": "cxRpYzEO9itY",
        "outputId": "7eed31af-207e-46b9-dc5c-f2ed8162ec81"
      },
      "execution_count": null,
      "outputs": [
        {
          "output_type": "stream",
          "name": "stdout",
          "text": [
            "Mean squared error:  0.042392978231865\n",
            "R-squared 0.6647528618478964\n"
          ]
        }
      ]
    },
    {
      "cell_type": "code",
      "source": [
        "model.score(X_train,Y_train)"
      ],
      "metadata": {
        "colab": {
          "base_uri": "https://localhost:8080/"
        },
        "id": "E5y1zpedesMf",
        "outputId": "114437ac-e1ab-430d-d8ca-6548c9cf808b"
      },
      "execution_count": null,
      "outputs": [
        {
          "output_type": "execute_result",
          "data": {
            "text/plain": [
              "0.9423800010171965"
            ]
          },
          "metadata": {},
          "execution_count": 26
        }
      ]
    },
    {
      "cell_type": "code",
      "source": [
        "model.score(X_test,Y_test)"
      ],
      "metadata": {
        "colab": {
          "base_uri": "https://localhost:8080/"
        },
        "id": "r2lkAyjQesKY",
        "outputId": "4675ae1e-c209-482b-904e-13361eef70e8"
      },
      "execution_count": null,
      "outputs": [
        {
          "output_type": "execute_result",
          "data": {
            "text/plain": [
              "0.6647528618478964"
            ]
          },
          "metadata": {},
          "execution_count": 27
        }
      ]
    },
    {
      "cell_type": "code",
      "source": [
        "import matplotlib.pyplot as plt\n",
        "plt.scatter(X_test['Price'] , Y_test, color = 'green',label = 'Actual value')\n",
        "plt.scatter(X_test['Price'], Y_pred ,color = 'pink' , label = 'Predicted value')\n",
        "plt.xlabel('Price')\n",
        "plt.ylabel('Performance_Rating')\n",
        "plt.title('Random forest Regression')\n",
        "plt.legend()\n",
        "plt.show()\n",
        "\n"
      ],
      "metadata": {
        "colab": {
          "base_uri": "https://localhost:8080/",
          "height": 472
        },
        "id": "yiY6VhO4ji95",
        "outputId": "8829c41f-be75-405c-9184-0a04f8a965c7"
      },
      "execution_count": null,
      "outputs": [
        {
          "output_type": "display_data",
          "data": {
            "text/plain": [
              "<Figure size 640x480 with 1 Axes>"
            ],
            "image/png": "[encoded data removed]"
          },
          "metadata": {}
        }
      ]
    }
  ]
}